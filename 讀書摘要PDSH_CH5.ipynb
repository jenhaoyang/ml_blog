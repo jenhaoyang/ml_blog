{
  "nbformat": 4,
  "nbformat_minor": 0,
  "metadata": {
    "colab": {
      "name": "讀書摘要PDSH_CH5.ipynb",
      "provenance": [],
      "authorship_tag": "ABX9TyOzFc2KSg7kDNnkkDmvDHKt",
      "include_colab_link": true
    },
    "kernelspec": {
      "name": "python3",
      "display_name": "Python 3"
    }
  },
  "cells": [
    {
      "cell_type": "markdown",
      "metadata": {
        "id": "view-in-github",
        "colab_type": "text"
      },
      "source": [
        "<a href=\"https://colab.research.google.com/github/jenhaoyang/ml_blog/blob/main/%E8%AE%80%E6%9B%B8%E6%91%98%E8%A6%81PDSH_CH5.ipynb\" target=\"_parent\"><img src=\"https://colab.research.google.com/assets/colab-badge.svg\" alt=\"Open In Colab\"/></a>"
      ]
    },
    {
      "cell_type": "markdown",
      "metadata": {
        "id": "Pp5mwUSMAvth"
      },
      "source": [
        "# 什麼是機器學習\n",
        "機器學習可以視為從資料中尋找模型。我們想要找的是一個可以描述我們的資料的數學模型，而所謂的\"學習\"是指我們讓機器可以自動去調整模型的參數讓模型可以描述我們的資料。\n",
        "\n",
        "# 機器學習種類\n",
        "機器學習主要可以分為兩大類\n",
        "* 監督式學習: 訓練資料有被標註，可以再往下區分為\n",
        "  * 分類問題classification\n",
        "  * 回歸問題regression\n",
        "* 非監督式學習: 訓練資料沒有標籤\n"
      ]
    },
    {
      "cell_type": "markdown",
      "metadata": {
        "id": "zNuzlVNEAjX5"
      },
      "source": [
        ""
      ]
    }
  ]
}