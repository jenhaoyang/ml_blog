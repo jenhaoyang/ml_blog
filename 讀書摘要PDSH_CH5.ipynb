{
  "nbformat": 4,
  "nbformat_minor": 0,
  "metadata": {
    "colab": {
      "name": "讀書摘要PDSH_CH5.ipynb",
      "provenance": [],
      "authorship_tag": "ABX9TyMS7M3ltZ6QyR92x0n/U1y0",
      "include_colab_link": true
    },
    "kernelspec": {
      "name": "python3",
      "display_name": "Python 3"
    }
  },
  "cells": [
    {
      "cell_type": "markdown",
      "metadata": {
        "id": "view-in-github",
        "colab_type": "text"
      },
      "source": [
        "<a href=\"https://colab.research.google.com/github/jenhaoyang/ml_blog/blob/main/%E8%AE%80%E6%9B%B8%E6%91%98%E8%A6%81PDSH_CH5.ipynb\" target=\"_parent\"><img src=\"https://colab.research.google.com/assets/colab-badge.svg\" alt=\"Open In Colab\"/></a>"
      ]
    },
    {
      "cell_type": "code",
      "metadata": {
        "id": "ki-MhUp-Z0Fa"
      },
      "source": [
        ""
      ],
      "execution_count": null,
      "outputs": []
    }
  ]
}